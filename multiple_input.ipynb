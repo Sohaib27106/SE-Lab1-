{
  "nbformat": 4,
  "nbformat_minor": 0,
  "metadata": {
    "colab": {
      "provenance": [],
      "authorship_tag": "ABX9TyP1auBw3l6s4Rrpi/Q8WCL9",
      "include_colab_link": true
    },
    "kernelspec": {
      "name": "python3",
      "display_name": "Python 3"
    },
    "language_info": {
      "name": "python"
    }
  },
  "cells": [
    {
      "cell_type": "markdown",
      "metadata": {
        "id": "view-in-github",
        "colab_type": "text"
      },
      "source": [
        "<a href=\"https://colab.research.google.com/github/Sohaib27106/SE-Lab1-/blob/main/multiple_input.ipynb\" target=\"_parent\"><img src=\"https://colab.research.google.com/assets/colab-badge.svg\" alt=\"Open In Colab\"/></a>"
      ]
    },
    {
      "cell_type": "code",
      "execution_count": 1,
      "metadata": {
        "colab": {
          "base_uri": "https://localhost:8080/"
        },
        "id": "72QQ1mjyrdoD",
        "outputId": "6cb82aa8-35b6-4938-8346-296542f900c4"
      },
      "outputs": [
        {
          "output_type": "stream",
          "name": "stdout",
          "text": [
            "Sunny\n",
            "Sunny\n",
            "Sunny\n"
          ]
        }
      ],
      "source": [
        "import pandas as pd\n",
        "\n",
        "data = pd.read_excel('weather.xlsx', header=None)\n",
        "\n",
        "for index, row in data.iterrows():\n",
        "    t = int(row[0])\n",
        "    h = int(row[1])\n",
        "    wind = int(row[2])\n",
        "    w = 0.5 * (t ** 2) - (0.2 * h) + (0.1 * wind) - 15\n",
        "    if w > 10:\n",
        "        print(\"Sunny\")\n",
        "    elif 0 <= w <= 10:\n",
        "        print(\"Windy\")\n",
        "    elif -10 <= w < 0:\n",
        "        print(\"Cloud\")\n",
        "    elif w < -10:\n",
        "        print(\"Rainy\")"
      ]
    }
  ]
}